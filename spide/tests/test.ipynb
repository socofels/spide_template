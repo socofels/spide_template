{
 "cells": [
  {
   "cell_type": "code",
   "execution_count": 5,
   "metadata": {
    "collapsed": true
   },
   "outputs": [
    {
     "name": "stdout",
     "output_type": "stream",
     "text": [
      "a,done\n",
      "b,done\n",
      "all is done\n"
     ]
    }
   ],
   "source": [
    "from threading import Thread\n",
    "import time\n",
    "\n",
    "import pandas as pd\n",
    "\n",
    "\n",
    "def a():\n",
    "    time.sleep(1)\n",
    "    print(\"a,done\")\n",
    "\n",
    "\n",
    "def b():\n",
    "    time.sleep(2)\n",
    "    print(\"b,done\")\n",
    "\n",
    "\n",
    "t1 = Thread(target=a)\n",
    "t2 = Thread(target=b)\n",
    "t1.start()\n",
    "t2.start()\n",
    "t1.join()\n",
    "t2.join()\n",
    "print(\"all is done\")"
   ]
  },
  {
   "cell_type": "code",
   "execution_count": 42,
   "outputs": [
    {
     "data": {
      "text/plain": "['一、排污单位基本情况',\n '表1',\n '排污单位基本信息表',\n '攀枝花市海峰鑫化工有注册地址',\n '单位名称',\n '攀枝花市镇钛产业园区',\n '限公司',\n '生产经营场所地址攀枝花市镇钛高新区饥',\n '政编码',\n '617064',\n '钛大道70号',\n '行业类别',\n '工业颜料制造，无机酸投产日期',\n '2010-07-28',\n '生产经营场所中心经度101°50',\n '生产经营场所中心纬度26°29’',\n '且织机构代码',\n '915104007958181122统一社会信用代码915104007958181122',\n '支术负责人',\n '高峻岭',\n '联系电话',\n '斤在地是否属于大气重点否',\n '所在地是否属于总磷控',\n '否',\n '空制区',\n '制区',\n '所在地是否属于重金属',\n '斤在地是否属于总氮控制否',\n '污染特别排放限值实施否',\n '区域',\n '是否位于工业园区是',\n '所属工业园区名称',\n '是否需要改正',\n '排污许可证管理类别重点管理',\n '主要污染物类别废气内废水',\n '颗粒物',\n 'COD',\n 'SO2',\n '氨氮',\n '主要污染物种类NOX',\n '其他特征污染物（总氮（以N计）',\n '口VOCs',\n ',总磷（以P计）,pH值，动植物油，五',\n '其他特征污染物（硫酸雾）日生化需氧量，悬浮物，色度）',\n '连续排放，流量不稳',\n '5.5.5.5.5.5.5.5.5.5.5.5.5.5.5.5.5.5.5.5.5.5.5.5',\n '废水污染物排放规律定，但有规律，且不属',\n '于周期性规律',\n '大气污染物综合排放标准GB16297-1996,大气污染物综合排放标准GB',\n '大气污染物排放执行标准16297-1996,工业炉窑大气污染物排放标准GB9078-1996,硫酸工业污染',\n '物排放标准GB26132-2010,涂料、油墨及胶粘剂工业大气污染物排放标',\n 'K污染物排放执行标准名污水综合排放标准GB8978-1996,硫酸工业污染物排放标准GB26132-']"
     },
     "execution_count": 42,
     "metadata": {},
     "output_type": "execute_result"
    }
   ],
   "source": [
    "import pandas as pd\n",
    "import json\n",
    "\n",
    "j = {\"code\": \"0\",\n",
    "     \"data\": {\"block\": [{\"type\": \"text\", \"line\": [{\"confidence\": 1, \"word\": [{\"content\": \"一、排污单位基本情况\"}]},\n",
    "                                                  {\"confidence\": 1,\n",
    "                                                   \"word\": [{\"content\": \"表1\"}, {\"content\": \"排污单位基本信息表\"}]},\n",
    "                                                  {\"confidence\": 1, \"word\": [{\"content\": \"攀枝花市海峰鑫化工有注册地址\"}]},\n",
    "                                                  {\"confidence\": 1, \"word\": [{\"content\": \"单位名称\"}]},\n",
    "                                                  {\"confidence\": 1, \"word\": [{\"content\": \"攀枝花市镇钛产业园区\"}]},\n",
    "                                                  {\"confidence\": 1, \"word\": [{\"content\": \"限公司\"}]},\n",
    "                                                  {\"confidence\": 1, \"word\": [{\"content\": \"生产经营场所地址攀枝花市镇钛高新区饥\"}]},\n",
    "                                                  {\"confidence\": 1, \"word\": [{\"content\": \"政编码\"}]},\n",
    "                                                  {\"confidence\": 1, \"word\": [{\"content\": \"617064\"}]},\n",
    "                                                  {\"confidence\": 1, \"word\": [{\"content\": \"钛大道70号\"}]},\n",
    "                                                  {\"confidence\": 1, \"word\": [{\"content\": \"行业类别\"}]},\n",
    "                                                  {\"confidence\": 1, \"word\": [{\"content\": \"工业颜料制造，无机酸投产日期\"}]},\n",
    "                                                  {\"confidence\": 1, \"word\": [{\"content\": \"2010-07-28\"}]},\n",
    "                                                  {\"confidence\": 1, \"word\": [{\"content\": \"生产经营场所中心经度101°50\"}]},\n",
    "                                                  {\"confidence\": 1, \"word\": [{\"content\": \"生产经营场所中心纬度26°29’\"}]},\n",
    "                                                  {\"confidence\": 1, \"word\": [{\"content\": \"且织机构代码\"}]}, {\"confidence\": 1,\n",
    "                                                                                                       \"word\": [{\n",
    "                                                                                                                    \"content\": \"915104007958181122统一社会信用代码915104007958181122\"}]},\n",
    "                                                  {\"confidence\": 1, \"word\": [{\"content\": \"支术负责人\"}]},\n",
    "                                                  {\"confidence\": 1, \"word\": [{\"content\": \"高峻岭\"}]},\n",
    "                                                  {\"confidence\": 1, \"word\": [{\"content\": \"联系电话\"}]},\n",
    "                                                  {\"confidence\": 1, \"word\": [{\"content\": \"斤在地是否属于大气重点否\"}]},\n",
    "                                                  {\"confidence\": 1,\n",
    "                                                   \"word\": [{\"content\": \"所在地是否属于总磷控\"}, {\"content\": \"否\"}]},\n",
    "                                                  {\"confidence\": 1, \"word\": [{\"content\": \"空制区\"}]},\n",
    "                                                  {\"confidence\": 1, \"word\": [{\"content\": \"制区\"}]},\n",
    "                                                  {\"confidence\": 1, \"word\": [{\"content\": \"所在地是否属于重金属\"}]},\n",
    "                                                  {\"confidence\": 1, \"word\": [{\"content\": \"斤在地是否属于总氮控制否\"}]},\n",
    "                                                  {\"confidence\": 1, \"word\": [{\"content\": \"污染特别排放限值实施否\"}]},\n",
    "                                                  {\"confidence\": 1, \"word\": [{\"content\": \"区域\"}]},\n",
    "                                                  {\"confidence\": 1, \"word\": [{\"content\": \"是否位于工业园区是\"}]},\n",
    "                                                  {\"confidence\": 1, \"word\": [{\"content\": \"所属工业园区名称\"}]},\n",
    "                                                  {\"confidence\": 1, \"word\": [{\"content\": \"是否需要改正\"}]},\n",
    "                                                  {\"confidence\": 1, \"word\": [{\"content\": \"排污许可证管理类别重点管理\"}]},\n",
    "                                                  {\"confidence\": 1, \"word\": [{\"content\": \"主要污染物类别废气内废水\"}]},\n",
    "                                                  {\"confidence\": 1, \"word\": [{\"content\": \"颗粒物\"}]},\n",
    "                                                  {\"confidence\": 1, \"word\": [{\"content\": \"COD\"}]},\n",
    "                                                  {\"confidence\": 1, \"word\": [{\"content\": \"SO2\"}]},\n",
    "                                                  {\"confidence\": 1, \"word\": [{\"content\": \"氨氮\"}]},\n",
    "                                                  {\"confidence\": 1, \"word\": [{\"content\": \"主要污染物种类NOX\"}]},\n",
    "                                                  {\"confidence\": 1, \"word\": [{\"content\": \"其他特征污染物（总氮（以N计）\"}]},\n",
    "                                                  {\"confidence\": 1, \"word\": [{\"content\": \"口VOCs\"}]},\n",
    "                                                  {\"confidence\": 1, \"word\": [{\"content\": \",总磷（以P计）,pH值，动植物油，五\"}]},\n",
    "                                                  {\"confidence\": 1,\n",
    "                                                   \"word\": [{\"content\": \"其他特征污染物（硫酸雾）日生化需氧量，悬浮物，色度）\"}]},\n",
    "                                                  {\"confidence\": 1, \"word\": [{\"content\": \"连续排放，流量不稳\"}]},\n",
    "                                                  {\"confidence\": 1, \"word\": [\n",
    "                                                      {\"content\": \"5.5.5.5.5.5.5.5.5.5.5.5.5.5.5.5.5.5.5.5.5.5.5.5\"}]},\n",
    "                                                  {\"confidence\": 1, \"word\": [{\"content\": \"废水污染物排放规律定，但有规律，且不属\"}]},\n",
    "                                                  {\"confidence\": 1, \"word\": [{\"content\": \"于周期性规律\"}]}, {\"confidence\": 1,\n",
    "                                                                                                       \"word\": [{\n",
    "                                                                                                                    \"content\": \"大气污染物综合排放标准GB16297-1996,大气污染物综合排放标准GB\"}]},\n",
    "                                                  {\"confidence\": 1, \"word\": [{\n",
    "                                                                                 \"content\": \"大气污染物排放执行标准16297-1996,工业炉窑大气污染物排放标准GB9078-1996,硫酸工业污染\"}]},\n",
    "                                                  {\"confidence\": 1,\n",
    "                                                   \"word\": [{\"content\": \"物排放标准GB26132-2010,涂料、油墨及胶粘剂工业大气污染物排放标\"}]},\n",
    "                                                  {\"confidence\": 1, \"word\": [{\n",
    "                                                                                 \"content\": \"K污染物排放执行标准名污水综合排放标准GB8978-1996,硫酸工业污染物排放标准GB26132-\"}]}]}]},\n",
    "     \"desc\": \"success\", \"sid\": \"wcr00237450@gz71de14869c59460e00\"}\n",
    "line = j[\"data\"][\"block\"][0][\"line\"]\n",
    "inf =[]\n",
    "for i in line:\n",
    "    for j in i[\"word\"]:\n",
    "        inf.append(j[\"content\"])\n",
    "# for i in inf:\n",
    "#     if \"简化管理\" in i:\n",
    "#         print (\"yes\")\n",
    "inf"
   ],
   "metadata": {
    "collapsed": false,
    "pycharm": {
     "name": "#%%\n"
    }
   }
  }
 ],
 "metadata": {
  "kernelspec": {
   "display_name": "Python 3",
   "language": "python",
   "name": "python3"
  },
  "language_info": {
   "codemirror_mode": {
    "name": "ipython",
    "version": 2
   },
   "file_extension": ".py",
   "mimetype": "text/x-python",
   "name": "python",
   "nbconvert_exporter": "python",
   "pygments_lexer": "ipython2",
   "version": "2.7.6"
  }
 },
 "nbformat": 4,
 "nbformat_minor": 0
}