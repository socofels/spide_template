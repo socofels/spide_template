{
 "cells": [
  {
   "cell_type": "code",
   "execution_count": 5,
   "metadata": {
    "collapsed": true
   },
   "outputs": [
    {
     "name": "stdout",
     "output_type": "stream",
     "text": [
      "a,done\n",
      "b,done\n",
      "all is done\n"
     ]
    }
   ],
   "source": [
    "from threading import Thread\n",
    "import time\n",
    "def a():\n",
    "    time.sleep(1)\n",
    "    print(\"a,done\")\n",
    "def b():\n",
    "    time.sleep(2)\n",
    "    print(\"b,done\")\n",
    "t1=Thread(target=a)\n",
    "t2=Thread(target=b)\n",
    "t1.start()\n",
    "t2.start()\n",
    "t1.join()\n",
    "t2.join()\n",
    "print(\"all is done\")"
   ]
  }
 ],
 "metadata": {
  "kernelspec": {
   "display_name": "Python 3",
   "language": "python",
   "name": "python3"
  },
  "language_info": {
   "codemirror_mode": {
    "name": "ipython",
    "version": 2
   },
   "file_extension": ".py",
   "mimetype": "text/x-python",
   "name": "python",
   "nbconvert_exporter": "python",
   "pygments_lexer": "ipython2",
   "version": "2.7.6"
  }
 },
 "nbformat": 4,
 "nbformat_minor": 0
}